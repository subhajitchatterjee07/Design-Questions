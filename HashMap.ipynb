{
 "cells": [
  {
   "cell_type": "markdown",
   "id": "8486bdc1-e0c1-4f73-a405-dbe8de1be24f",
   "metadata": {},
   "source": [
    "# Design a hashmap.\n",
    "## Considerations:\n",
    "1. Insertion should be O(1).\n",
    "2. Deletion should be O(1).\n",
    "3. Lookup should be O(1)."
   ]
  },
  {
   "cell_type": "markdown",
   "id": "964abf62-cf72-4d64-970e-bc8ed08019ec",
   "metadata": {},
   "source": [
    "# Discussions with interviewer\n",
    "## Step 1: Ask what the expectations are, because the worst case T.C. is still going to be O(log N) anyway.\n",
    "## Step 2: Give them multiple approaches to design a hash-map. They can point in the direction they want to design.\n",
    "### Mentioning possible approaches:\n",
    "1. Let us go with the first requirement: Insertion should be O(1). This will be possible if we use a hashing function, in an Array/list. However the downside is that the collisions have to be minimized, else worst case TC will be O(N).\n",
    "2. Deletion and lookup also reflect the same idea.\n",
    "3. Also it needs to be discussed how we are going to resolve collisions. Are we going to do:\n",
    "   - Chaining:\n",
    "     - Linear chaining (linked list approach)\n",
    "     - Tree chaining (BST like approach)\n",
    "   - Probing (also called as open addressing):\n",
    "     - Linear Probing\n",
    "     - Quadratic Probing\n",
    "   - Robin Hood Hashing (Not in scope of the interview)"
   ]
  },
  {
   "cell_type": "markdown",
   "id": "4f7410d8-a97e-400d-81c5-2fe6e8e021fe",
   "metadata": {},
   "source": [
    "We are going to develop the linear chaining first:"
   ]
  },
  {
   "cell_type": "code",
   "execution_count": 6,
   "id": "2003034f-f2cb-4c2e-a77a-21c084d628b9",
   "metadata": {},
   "outputs": [
    {
     "name": "stdout",
     "output_type": "stream",
     "text": [
      "Lookup 5: True\n",
      "Lookup 15: True\n",
      "Lookup 5 after delete: False\n"
     ]
    }
   ],
   "source": [
    "# Node class for creation of chaining\n",
    "class Node:\n",
    "    def __init__(self, val=None):\n",
    "        self.val = val\n",
    "        self.prev = None\n",
    "        self.next = None\n",
    "\n",
    "#some helper functions\n",
    "def hash_func(sz: int, val: int) -> int:\n",
    "    return val % sz\n",
    "\n",
    "def traverse(head: Node) -> Node:\n",
    "    current = head\n",
    "    while current and current.next:\n",
    "        current = current.next  \n",
    "    return current\n",
    "\n",
    "#hashmap class\n",
    "class HashMap:\n",
    "    def __init__(self, size: int) -> None:\n",
    "        self.size = size\n",
    "        self.table = [None for _ in range(size)]\n",
    "\n",
    "    def insert(self, val: int) -> None:\n",
    "        idx = hash_func(self.size, val)\n",
    "        if self.table[idx] is None:\n",
    "            self.table[idx] = Node(val)\n",
    "        else:\n",
    "            last_node = traverse(self.table[idx])\n",
    "            new_node = Node(val)\n",
    "            last_node.next = new_node\n",
    "            new_node.prev = last_node\n",
    "\n",
    "    def delete(self, val: int) -> None:\n",
    "        idx = hash_func(self.size, val)\n",
    "        current = self.table[idx]\n",
    "        \n",
    "        while current:\n",
    "            if current.val == val:\n",
    "                if current.prev is None:\n",
    "                    self.table[idx] = current.next\n",
    "                    if current.next:\n",
    "                        current.next.prev = None\n",
    "                else:\n",
    "                    current.prev.next = current.next\n",
    "                    if current.next:\n",
    "                        current.next.prev = current.prev\n",
    "                return\n",
    "            current = current.next\n",
    "\n",
    "    def lookup(self, val: int) -> bool:\n",
    "        idx = hash_func(self.size, val)\n",
    "        current = self.table[idx]\n",
    "        while current:\n",
    "            if current.val == val:\n",
    "                return True\n",
    "            current = current.next\n",
    "        return False\n",
    "\n",
    "if __name__ == \"__main__\":\n",
    "    hmap = HashMap(10)\n",
    "    hmap.insert(5)\n",
    "    hmap.insert(15)\n",
    "    print(\"Lookup 5:\", hmap.lookup(5))\n",
    "    print(\"Lookup 15:\", hmap.lookup(15))\n",
    "    hmap.delete(5)\n",
    "    print(\"Lookup 5 after delete:\", hmap.lookup(5))\n"
   ]
  },
  {
   "cell_type": "markdown",
   "id": "a84ca2d6-e5af-47c1-8364-7dcbd9e2a1cd",
   "metadata": {},
   "source": [
    "### This code gives O(N) time complexity in worst case.\n",
    "- Also check:\n",
    "1. The load factor for hashmap is necessary during runtime. If load factor is more (closer to 1), then the collisions will be more. So periodically the hashmap must be resized.\n",
    "2. See https://stackoverflow.com/questions/49709873/cache-performance-in-hash-tables-with-chaining-vs-open-addressing for understanding what to use in real life scenarios."
   ]
  },
  {
   "cell_type": "code",
   "execution_count": null,
   "id": "9a75fa90-6faa-4762-8d87-ab9ac1c5b597",
   "metadata": {},
   "outputs": [],
   "source": []
  }
 ],
 "metadata": {
  "kernelspec": {
   "display_name": "Python 3 (ipykernel)",
   "language": "python",
   "name": "python3"
  },
  "language_info": {
   "codemirror_mode": {
    "name": "ipython",
    "version": 3
   },
   "file_extension": ".py",
   "mimetype": "text/x-python",
   "name": "python",
   "nbconvert_exporter": "python",
   "pygments_lexer": "ipython3",
   "version": "3.12.2"
  }
 },
 "nbformat": 4,
 "nbformat_minor": 5
}
